{
 "cells": [
  {
   "cell_type": "code",
   "execution_count": 68,
   "id": "73414698-8af7-4785-86a8-a58991c865f2",
   "metadata": {},
   "outputs": [],
   "source": [
    "#Import Libraries\n",
    "# Data handling and manipulation\n",
    "import pandas as pd        # For working with tabular data (DataFrames)\n",
    "import numpy as np         # For numerical operations, arrays, and matrices\n",
    "\n",
    "# Data visualization\n",
    "import seaborn as sns      # For advanced statistical plotting\n",
    "import matplotlib.pyplot as plt  # For creating standard plots and visualizations\n",
    "\n",
    "# Model persistence\n",
    "import pickle              # For saving/loading Python objects (e.g., trained models)\n",
    "\n",
    "# Machine learning algorithms\n",
    "from sklearn.neighbors import NearestNeighbors  # For finding closest data points (KNN-style)\n",
    "from sklearn.preprocessing import StandardScaler  # For normalizing features to a standard scale\n",
    "\n",
    "# Text feature extraction\n",
    "from sklearn.feature_extraction.text import TfidfVectorizer  # For converting text to numerical TF-IDF features\n",
    "\n",
    "# Sparse matrix operations\n",
    "from scipy.sparse import hstack, csr_matrix  # For efficiently storing and combining large sparse matrices"
   ]
  },
  {
   "cell_type": "code",
   "execution_count": 69,
   "id": "53b140dd-54ab-4cd9-8a27-3d6ce2a3df26",
   "metadata": {
    "scrolled": true
   },
   "outputs": [],
   "source": [
    "#Import the Dataset\n",
    "data = pd.read_csv(\"Book_Recommend_Dataset.csv\")"
   ]
  },
  {
   "cell_type": "code",
   "execution_count": 70,
   "id": "80f3d01f-4306-452c-b526-1bcf40d5ea96",
   "metadata": {},
   "outputs": [
    {
     "data": {
      "text/html": [
       "<div>\n",
       "<style scoped>\n",
       "    .dataframe tbody tr th:only-of-type {\n",
       "        vertical-align: middle;\n",
       "    }\n",
       "\n",
       "    .dataframe tbody tr th {\n",
       "        vertical-align: top;\n",
       "    }\n",
       "\n",
       "    .dataframe thead th {\n",
       "        text-align: right;\n",
       "    }\n",
       "</style>\n",
       "<table border=\"1\" class=\"dataframe\">\n",
       "  <thead>\n",
       "    <tr style=\"text-align: right;\">\n",
       "      <th></th>\n",
       "      <th>asin</th>\n",
       "      <th>title</th>\n",
       "      <th>author</th>\n",
       "      <th>soldBy</th>\n",
       "      <th>imgUrl</th>\n",
       "      <th>productURL</th>\n",
       "      <th>stars</th>\n",
       "      <th>reviews</th>\n",
       "      <th>price</th>\n",
       "      <th>isKindleUnlimited</th>\n",
       "      <th>category_id</th>\n",
       "      <th>isBestSeller</th>\n",
       "      <th>isEditorsPick</th>\n",
       "      <th>isGoodReadsChoice</th>\n",
       "      <th>publishedDate</th>\n",
       "      <th>category_name</th>\n",
       "    </tr>\n",
       "  </thead>\n",
       "  <tbody>\n",
       "    <tr>\n",
       "      <th>0</th>\n",
       "      <td>B00TZE87S4</td>\n",
       "      <td>Adult Children of Emotionally Immature Parents...</td>\n",
       "      <td>Lindsay C. Gibson</td>\n",
       "      <td>Amazon.com Services LLC</td>\n",
       "      <td>https://m.media-amazon.com/images/I/713KZTsaYp...</td>\n",
       "      <td>https://www.amazon.com/dp/B00TZE87S4</td>\n",
       "      <td>4.8</td>\n",
       "      <td>0</td>\n",
       "      <td>9.99</td>\n",
       "      <td>False</td>\n",
       "      <td>6</td>\n",
       "      <td>True</td>\n",
       "      <td>False</td>\n",
       "      <td>False</td>\n",
       "      <td>2015-06-01</td>\n",
       "      <td>Parenting &amp; Relationships</td>\n",
       "    </tr>\n",
       "    <tr>\n",
       "      <th>1</th>\n",
       "      <td>B08WCKY8MB</td>\n",
       "      <td>From Strength to Strength: Finding Success, Ha...</td>\n",
       "      <td>Arthur C. Brooks</td>\n",
       "      <td>Penguin Group (USA) LLC</td>\n",
       "      <td>https://m.media-amazon.com/images/I/A1LZcJFs9E...</td>\n",
       "      <td>https://www.amazon.com/dp/B08WCKY8MB</td>\n",
       "      <td>4.4</td>\n",
       "      <td>0</td>\n",
       "      <td>16.99</td>\n",
       "      <td>False</td>\n",
       "      <td>6</td>\n",
       "      <td>False</td>\n",
       "      <td>False</td>\n",
       "      <td>False</td>\n",
       "      <td>2022-02-15</td>\n",
       "      <td>Parenting &amp; Relationships</td>\n",
       "    </tr>\n",
       "    <tr>\n",
       "      <th>2</th>\n",
       "      <td>B09KPS84CJ</td>\n",
       "      <td>Good Inside: A Guide to Becoming the Parent Yo...</td>\n",
       "      <td>Becky Kennedy</td>\n",
       "      <td>HarperCollins Publishers</td>\n",
       "      <td>https://m.media-amazon.com/images/I/71RIWM0sv6...</td>\n",
       "      <td>https://www.amazon.com/dp/B09KPS84CJ</td>\n",
       "      <td>4.8</td>\n",
       "      <td>0</td>\n",
       "      <td>16.99</td>\n",
       "      <td>False</td>\n",
       "      <td>6</td>\n",
       "      <td>False</td>\n",
       "      <td>True</td>\n",
       "      <td>False</td>\n",
       "      <td>2022-09-13</td>\n",
       "      <td>Parenting &amp; Relationships</td>\n",
       "    </tr>\n",
       "    <tr>\n",
       "      <th>3</th>\n",
       "      <td>B07S7QPG6J</td>\n",
       "      <td>Everything I Know About Love: A Memoir</td>\n",
       "      <td>Dolly Alderton</td>\n",
       "      <td>HarperCollins Publishers</td>\n",
       "      <td>https://m.media-amazon.com/images/I/71QdQpTiKZ...</td>\n",
       "      <td>https://www.amazon.com/dp/B07S7QPG6J</td>\n",
       "      <td>4.2</td>\n",
       "      <td>0</td>\n",
       "      <td>9.95</td>\n",
       "      <td>True</td>\n",
       "      <td>6</td>\n",
       "      <td>False</td>\n",
       "      <td>True</td>\n",
       "      <td>False</td>\n",
       "      <td>2020-02-25</td>\n",
       "      <td>Parenting &amp; Relationships</td>\n",
       "    </tr>\n",
       "    <tr>\n",
       "      <th>4</th>\n",
       "      <td>B00N6PEQV0</td>\n",
       "      <td>The Seven Principles for Making Marriage Work:...</td>\n",
       "      <td>John Gottman</td>\n",
       "      <td>Random House LLC</td>\n",
       "      <td>https://m.media-amazon.com/images/I/813o4WOs+w...</td>\n",
       "      <td>https://www.amazon.com/dp/B00N6PEQV0</td>\n",
       "      <td>4.7</td>\n",
       "      <td>0</td>\n",
       "      <td>13.99</td>\n",
       "      <td>False</td>\n",
       "      <td>6</td>\n",
       "      <td>False</td>\n",
       "      <td>False</td>\n",
       "      <td>False</td>\n",
       "      <td>2015-05-05</td>\n",
       "      <td>Parenting &amp; Relationships</td>\n",
       "    </tr>\n",
       "  </tbody>\n",
       "</table>\n",
       "</div>"
      ],
      "text/plain": [
       "         asin                                              title  \\\n",
       "0  B00TZE87S4  Adult Children of Emotionally Immature Parents...   \n",
       "1  B08WCKY8MB  From Strength to Strength: Finding Success, Ha...   \n",
       "2  B09KPS84CJ  Good Inside: A Guide to Becoming the Parent Yo...   \n",
       "3  B07S7QPG6J             Everything I Know About Love: A Memoir   \n",
       "4  B00N6PEQV0  The Seven Principles for Making Marriage Work:...   \n",
       "\n",
       "              author                    soldBy  \\\n",
       "0  Lindsay C. Gibson   Amazon.com Services LLC   \n",
       "1   Arthur C. Brooks   Penguin Group (USA) LLC   \n",
       "2      Becky Kennedy  HarperCollins Publishers   \n",
       "3     Dolly Alderton  HarperCollins Publishers   \n",
       "4       John Gottman          Random House LLC   \n",
       "\n",
       "                                              imgUrl  \\\n",
       "0  https://m.media-amazon.com/images/I/713KZTsaYp...   \n",
       "1  https://m.media-amazon.com/images/I/A1LZcJFs9E...   \n",
       "2  https://m.media-amazon.com/images/I/71RIWM0sv6...   \n",
       "3  https://m.media-amazon.com/images/I/71QdQpTiKZ...   \n",
       "4  https://m.media-amazon.com/images/I/813o4WOs+w...   \n",
       "\n",
       "                             productURL  stars  reviews  price  \\\n",
       "0  https://www.amazon.com/dp/B00TZE87S4    4.8        0   9.99   \n",
       "1  https://www.amazon.com/dp/B08WCKY8MB    4.4        0  16.99   \n",
       "2  https://www.amazon.com/dp/B09KPS84CJ    4.8        0  16.99   \n",
       "3  https://www.amazon.com/dp/B07S7QPG6J    4.2        0   9.95   \n",
       "4  https://www.amazon.com/dp/B00N6PEQV0    4.7        0  13.99   \n",
       "\n",
       "   isKindleUnlimited  category_id  isBestSeller  isEditorsPick  \\\n",
       "0              False            6          True          False   \n",
       "1              False            6         False          False   \n",
       "2              False            6         False           True   \n",
       "3               True            6         False           True   \n",
       "4              False            6         False          False   \n",
       "\n",
       "   isGoodReadsChoice publishedDate              category_name  \n",
       "0              False    2015-06-01  Parenting & Relationships  \n",
       "1              False    2022-02-15  Parenting & Relationships  \n",
       "2              False    2022-09-13  Parenting & Relationships  \n",
       "3              False    2020-02-25  Parenting & Relationships  \n",
       "4              False    2015-05-05  Parenting & Relationships  "
      ]
     },
     "execution_count": 70,
     "metadata": {},
     "output_type": "execute_result"
    }
   ],
   "source": [
    "#Load the Dataset\n",
    "data.head()"
   ]
  },
  {
   "cell_type": "code",
   "execution_count": 71,
   "id": "71ebe78a-0e97-43e4-bfb3-3b26c8ad211f",
   "metadata": {},
   "outputs": [
    {
     "name": "stdout",
     "output_type": "stream",
     "text": [
      "<class 'pandas.core.frame.DataFrame'>\n",
      "RangeIndex: 133102 entries, 0 to 133101\n",
      "Data columns (total 16 columns):\n",
      " #   Column             Non-Null Count   Dtype  \n",
      "---  ------             --------------   -----  \n",
      " 0   asin               133102 non-null  object \n",
      " 1   title              133102 non-null  object \n",
      " 2   author             132677 non-null  object \n",
      " 3   soldBy             123869 non-null  object \n",
      " 4   imgUrl             133102 non-null  object \n",
      " 5   productURL         133102 non-null  object \n",
      " 6   stars              133102 non-null  float64\n",
      " 7   reviews            133102 non-null  int64  \n",
      " 8   price              133102 non-null  float64\n",
      " 9   isKindleUnlimited  133102 non-null  bool   \n",
      " 10  category_id        133102 non-null  int64  \n",
      " 11  isBestSeller       133102 non-null  bool   \n",
      " 12  isEditorsPick      133102 non-null  bool   \n",
      " 13  isGoodReadsChoice  133102 non-null  bool   \n",
      " 14  publishedDate      84086 non-null   object \n",
      " 15  category_name      133102 non-null  object \n",
      "dtypes: bool(4), float64(2), int64(2), object(8)\n",
      "memory usage: 12.7+ MB\n"
     ]
    }
   ],
   "source": [
    "#Check the Info Of the Dataset\n",
    "data.info()"
   ]
  },
  {
   "cell_type": "code",
   "execution_count": 72,
   "id": "37abdcaf-699e-4d8d-9816-bf4dfba8d22c",
   "metadata": {},
   "outputs": [
    {
     "data": {
      "text/plain": [
       "(133102, 16)"
      ]
     },
     "execution_count": 72,
     "metadata": {},
     "output_type": "execute_result"
    }
   ],
   "source": [
    "#Check the Shape of Dataset\n",
    "data.shape"
   ]
  },
  {
   "cell_type": "code",
   "execution_count": 73,
   "id": "fcd199f7-e391-46f9-ac8d-8adba7fa102c",
   "metadata": {},
   "outputs": [],
   "source": [
    "#Remove Unsed Columns\n",
    "data = data[['title','author','soldBy','publishedDate','imgUrl']]"
   ]
  },
  {
   "cell_type": "code",
   "execution_count": 74,
   "id": "0ede287c-15f9-4220-8a54-d042fea0949b",
   "metadata": {},
   "outputs": [
    {
     "name": "stdout",
     "output_type": "stream",
     "text": [
      "<class 'pandas.core.frame.DataFrame'>\n",
      "RangeIndex: 133102 entries, 0 to 133101\n",
      "Data columns (total 5 columns):\n",
      " #   Column         Non-Null Count   Dtype \n",
      "---  ------         --------------   ----- \n",
      " 0   title          133102 non-null  object\n",
      " 1   author         132677 non-null  object\n",
      " 2   soldBy         123869 non-null  object\n",
      " 3   publishedDate  84086 non-null   object\n",
      " 4   imgUrl         133102 non-null  object\n",
      "dtypes: object(5)\n",
      "memory usage: 5.1+ MB\n"
     ]
    }
   ],
   "source": [
    "#Load new Dataset\n",
    "data.info()"
   ]
  },
  {
   "cell_type": "code",
   "execution_count": 75,
   "id": "a8c9a828-0b25-4569-936c-a0662582efdd",
   "metadata": {},
   "outputs": [
    {
     "data": {
      "text/plain": [
       "title                0\n",
       "author             425\n",
       "soldBy            9233\n",
       "publishedDate    49016\n",
       "imgUrl               0\n",
       "dtype: int64"
      ]
     },
     "execution_count": 75,
     "metadata": {},
     "output_type": "execute_result"
    }
   ],
   "source": [
    "#Check the Empty Values\n",
    "data.isnull().sum()"
   ]
  },
  {
   "cell_type": "code",
   "execution_count": 76,
   "id": "f3d20d38-f532-402d-8ba0-e8c1eac5a3b0",
   "metadata": {},
   "outputs": [],
   "source": [
    "#Remove the Empty values\n",
    "data.dropna(subset=['author'],inplace=True)\n",
    "#Remove the Empty values\n",
    "data.dropna(subset=['soldBy'],inplace=True)\n",
    "#Remove the Empty values\n",
    "data.dropna(subset=['publishedDate'],inplace=True)"
   ]
  },
  {
   "cell_type": "code",
   "execution_count": 77,
   "id": "935edce7-101d-46f7-abdd-be1b0789e582",
   "metadata": {},
   "outputs": [
    {
     "data": {
      "text/plain": [
       "title            0\n",
       "author           0\n",
       "soldBy           0\n",
       "publishedDate    0\n",
       "imgUrl           0\n",
       "dtype: int64"
      ]
     },
     "execution_count": 77,
     "metadata": {},
     "output_type": "execute_result"
    }
   ],
   "source": [
    "data.isnull().sum()"
   ]
  },
  {
   "cell_type": "code",
   "execution_count": 78,
   "id": "c6561c3f-a6d3-4307-ad85-7ba6f5b86f06",
   "metadata": {},
   "outputs": [],
   "source": [
    "#Remove the Duplicate Values\n",
    "data.drop_duplicates(subset=['author'],inplace=True)\n",
    "#Remove the Duplicate Values\n",
    "data.drop_duplicates(subset=['soldBy'],inplace=True)\n",
    "#Remove the Duplicate Values\n",
    "data.drop_duplicates(subset=['publishedDate'],inplace=True)"
   ]
  },
  {
   "cell_type": "code",
   "execution_count": 79,
   "id": "a5dd554a-ffbc-4e99-941e-d421e1bd9326",
   "metadata": {},
   "outputs": [
    {
     "name": "stdout",
     "output_type": "stream",
     "text": [
      "<class 'pandas.core.frame.DataFrame'>\n",
      "Index: 35 entries, 0 to 100696\n",
      "Data columns (total 5 columns):\n",
      " #   Column         Non-Null Count  Dtype \n",
      "---  ------         --------------  ----- \n",
      " 0   title          35 non-null     object\n",
      " 1   author         35 non-null     object\n",
      " 2   soldBy         35 non-null     object\n",
      " 3   publishedDate  35 non-null     object\n",
      " 4   imgUrl         35 non-null     object\n",
      "dtypes: object(5)\n",
      "memory usage: 1.6+ KB\n"
     ]
    }
   ],
   "source": [
    "#Check the Status Dataset\n",
    "data.info()"
   ]
  },
  {
   "cell_type": "code",
   "execution_count": 80,
   "id": "5a74091d-802b-4237-a272-6e1c23044df3",
   "metadata": {},
   "outputs": [
    {
     "data": {
      "text/plain": [
       "array(['Lindsay C. Gibson', 'Arthur C. Brooks', 'Becky Kennedy',\n",
       "       'John Gottman', 'Jeannette Walls', 'Oprah Winfrey',\n",
       "       'Robert F. Kennedy Jr.', 'David Sedaris', 'Justin Whitmel Earley',\n",
       "       'L. M. Montgomery', 'Maria Tatar', 'Amanda Montei',\n",
       "       'Teresa M. McDevitt', 'Belinda Daughrity', 'Mitch Weiss',\n",
       "       'Rachel Marks', 'Kasey Edwards', 'Michelle Mitchell',\n",
       "       'Roberta M. Berns', 'Kris Bordessa', 'Fletcher McKenzie',\n",
       "       'Mark Millhone', 'Gerald J. Alred', 'Travis Campbell',\n",
       "       'Ali Amrabet', 'Inès de La Fressange', 'Professor Braam van Wyk',\n",
       "       'Dan Abnett', 'Jill Leovy', 'Sarah Albee', 'Bokuto Uno',\n",
       "       'Matt Perman', 'Nicolas Bourriaud',\n",
       "       'Harry Potter Theatrical Productions', 'Matt Forbeck'],\n",
       "      dtype=object)"
      ]
     },
     "execution_count": 80,
     "metadata": {},
     "output_type": "execute_result"
    }
   ],
   "source": [
    "#Check the columns data status\n",
    "data.author.unique()"
   ]
  },
  {
   "cell_type": "code",
   "execution_count": 81,
   "id": "095ecd18-098f-48f1-bc7e-f7dba9d1ed47",
   "metadata": {},
   "outputs": [
    {
     "data": {
      "text/plain": [
       "array(['Amazon.com Services LLC', 'Penguin Group (USA) LLC',\n",
       "       'HarperCollins Publishers', 'Random House LLC',\n",
       "       'Simon and Schuster Digital Sales Inc', 'Macmillan',\n",
       "       'Simon & Schuster Digital Sales Inc.', 'Hachette Book Group',\n",
       "       'HarperCollins Publishing', 'De Marque', 'W. W. Norton & Company',\n",
       "       'Penguin Random House Publisher Services',\n",
       "       'Pearson Education,Inc.', 'JOHN WILEY AND SONS INC',\n",
       "       'Harlequin Digital Sales Corp.', 'PRH UK', 'RH AU',\n",
       "       'Penguin Random House Australia Pty Ltd', 'Cengage Learning',\n",
       "       'Disney Book Group', 'Random House NZ', 'Amazon.com',\n",
       "       'Macmillan Higher Education', 'EDIGITA', 'Gallimard Lt.',\n",
       "       'Flammarion Lt.', 'Random House ZA', 'Games Workshop',\n",
       "       'Amazon Digital Services LLC HN', 'Scholastic Trade Publisher',\n",
       "       'Yen Press LLC', 'Amazon Digital Services LLC MK',\n",
       "       'Immat&eacute;riel fr', 'Pottermore', 'Marvel Entertainment US'],\n",
       "      dtype=object)"
      ]
     },
     "execution_count": 81,
     "metadata": {},
     "output_type": "execute_result"
    }
   ],
   "source": [
    "#Check the columns data status\n",
    "data.soldBy.unique()"
   ]
  },
  {
   "cell_type": "code",
   "execution_count": 82,
   "id": "6ccf92a2-6bd8-41a5-bb19-cacfb9f97cb6",
   "metadata": {},
   "outputs": [
    {
     "data": {
      "text/plain": [
       "array(['Adult Children of Emotionally Immature Parents: How to Heal from Distant, Rejecting, or Self-Involved Parents',\n",
       "       'From Strength to Strength: Finding Success, Happiness, and Deep Purpose in the Second Half of Life',\n",
       "       'Good Inside: A Guide to Becoming the Parent You Want to Be',\n",
       "       \"The Seven Principles for Making Marriage Work: A Practical Guide from the Country's Foremost Relationship Expert\",\n",
       "       'The Glass Castle: A Memoir',\n",
       "       'What Happened to You?: Conversations on Trauma, Resilience, and Healing',\n",
       "       'Vax-Unvax: Let the Science Speak (Children’s Health Defense)',\n",
       "       'Happy-Go-Lucky',\n",
       "       'Habits of the Household: Practicing the Story of God in Everyday Family Rhythms',\n",
       "       'Anne Of Green Gables Complete 8 Book Set',\n",
       "       'The Classic Fairy Tales (Second Edition) (Norton Critical Editions)',\n",
       "       'Touched Out: Motherhood, Misogyny, Consent, and Control',\n",
       "       'Child Development and Education',\n",
       "       'Autism Spectrum Disorders from Theory to Practice: Assessment and Intervention Tools Across the Lifespan',\n",
       "       \"Broken Faith: Inside one of America's Most Dangerous Cults\",\n",
       "       'Saturdays at Noon: An uplifting, emotional and unpredictable page-turner to make you smile',\n",
       "       'Raising Girls Who Like Themselves', 'Tweens',\n",
       "       'Child, Family, School, Community: Socialization and Support',\n",
       "       'Attainable Sustainable: The Lost Art of Self-Reliant Living',\n",
       "       \"From the Pilot's Seat: Kiwi Adventurers in the Sky\",\n",
       "       'The Patron Saint of Used Cars and Second Chances: A Memoir',\n",
       "       \"The Business Writer's Companion\",\n",
       "       'Understanding Dental Insurance: A Guide for Dentists and their Teams',\n",
       "       'Draw and animate your manga characters: The Complete Guide by @ZESENSEI_DRAWS',\n",
       "       'Parisian Chic - Look Book: What should I wear today ?',\n",
       "       'Field Guide to Trees of Southern Africa: An African Perspective (Field Guide To... (Struik Publishers))',\n",
       "       'Ravenor: The Omnibus',\n",
       "       'Ghettoside: A True Story of Murder in America',\n",
       "       'Accidental Archaeologists: True Stories of Unexpected Discoveries',\n",
       "       'Reign of the Seven Spellblades, Vol. 9 (light novel) (Reign of the Seven Spellblades (novel))',\n",
       "       \"What's Best Next: How the Gospel Transforms the Way You Get Things Done\",\n",
       "       'Relational Aesthetics',\n",
       "       'Harry Potter and the Cursed Child: The Journey: Behind the Scenes of the Award-Winning Stage Production',\n",
       "       'MARVEL MULTIVERSE ROLE-PLAYING GAME: CORE RULEBOOK'], dtype=object)"
      ]
     },
     "execution_count": 82,
     "metadata": {},
     "output_type": "execute_result"
    }
   ],
   "source": [
    "#Check the columns data status\n",
    "data.title.unique()"
   ]
  },
  {
   "cell_type": "code",
   "execution_count": 83,
   "id": "ae8707fe-08a4-45b3-b47a-fed0dc41b775",
   "metadata": {},
   "outputs": [
    {
     "data": {
      "text/plain": [
       "array(['2015-06-01', '2022-02-15', '2022-09-13', '2015-05-05',\n",
       "       '2005-03-01', '2021-04-27', '2023-08-29', '2022-05-31',\n",
       "       '2021-11-09', '2023-09-25', '2017-01-20', '2023-09-12',\n",
       "       '2019-03-01', '2022-11-22', '2020-02-18', '2020-02-06',\n",
       "       '2021-02-02', '2023-02-28', '2015-01-01', '2020-04-28',\n",
       "       '2023-08-01', '2008-07-07', '2017-02-16', '2022-02-10',\n",
       "       '2023-05-26', '2017-04-05', '2013-08-06', '2019-07-20',\n",
       "       '2015-01-27', '2020-11-10', '2023-09-19', '2014-03-04',\n",
       "       '2022-09-09', '2019-10-31', '2023-08-02'], dtype=object)"
      ]
     },
     "execution_count": 83,
     "metadata": {},
     "output_type": "execute_result"
    }
   ],
   "source": [
    "#Check the columns data status\n",
    "data.publishedDate.unique()"
   ]
  },
  {
   "cell_type": "code",
   "execution_count": 84,
   "id": "5d1f91e0-bba0-404d-82dd-a2a3a1fe7a51",
   "metadata": {},
   "outputs": [
    {
     "name": "stdout",
     "output_type": "stream",
     "text": [
      "[2015 2022 2005 2021 2023 2017 2019 2020 2008 2013 2014]\n"
     ]
    }
   ],
   "source": [
    "# Assuming your data is in a DataFrame called 'data'\n",
    "# Extract year from 'publishedDate' column\n",
    "data['year'] = pd.to_datetime(data['publishedDate']).dt.year\n",
    "\n",
    "# Display the unique years\n",
    "unique_years = data['year'].unique()\n",
    "print(unique_years)"
   ]
  },
  {
   "cell_type": "code",
   "execution_count": 85,
   "id": "98c4cf6e-1230-4f11-8b7c-3e51648e2309",
   "metadata": {},
   "outputs": [
    {
     "name": "stdout",
     "output_type": "stream",
     "text": [
      "<class 'pandas.core.frame.DataFrame'>\n",
      "Index: 35 entries, 0 to 100696\n",
      "Data columns (total 6 columns):\n",
      " #   Column         Non-Null Count  Dtype \n",
      "---  ------         --------------  ----- \n",
      " 0   title          35 non-null     object\n",
      " 1   author         35 non-null     object\n",
      " 2   soldBy         35 non-null     object\n",
      " 3   publishedDate  35 non-null     object\n",
      " 4   imgUrl         35 non-null     object\n",
      " 5   year           35 non-null     int32 \n",
      "dtypes: int32(1), object(5)\n",
      "memory usage: 1.8+ KB\n"
     ]
    }
   ],
   "source": [
    "#Check the Status Dataset\n",
    "data.info()"
   ]
  },
  {
   "cell_type": "code",
   "execution_count": 86,
   "id": "ac41ff9b-c0c7-4db8-8074-8c326c4d42d4",
   "metadata": {},
   "outputs": [],
   "source": [
    "#Combination of colums\n",
    "data['text'] = data['title'] + data['author'] + data['soldBy']"
   ]
  },
  {
   "cell_type": "code",
   "execution_count": 87,
   "id": "d0276e39-4019-4c6d-a418-8c8051e219f4",
   "metadata": {},
   "outputs": [
    {
     "data": {
      "text/html": [
       "<div>\n",
       "<style scoped>\n",
       "    .dataframe tbody tr th:only-of-type {\n",
       "        vertical-align: middle;\n",
       "    }\n",
       "\n",
       "    .dataframe tbody tr th {\n",
       "        vertical-align: top;\n",
       "    }\n",
       "\n",
       "    .dataframe thead th {\n",
       "        text-align: right;\n",
       "    }\n",
       "</style>\n",
       "<table border=\"1\" class=\"dataframe\">\n",
       "  <thead>\n",
       "    <tr style=\"text-align: right;\">\n",
       "      <th></th>\n",
       "      <th>title</th>\n",
       "      <th>author</th>\n",
       "      <th>soldBy</th>\n",
       "      <th>publishedDate</th>\n",
       "      <th>imgUrl</th>\n",
       "      <th>year</th>\n",
       "      <th>text</th>\n",
       "    </tr>\n",
       "  </thead>\n",
       "  <tbody>\n",
       "    <tr>\n",
       "      <th>0</th>\n",
       "      <td>Adult Children of Emotionally Immature Parents...</td>\n",
       "      <td>Lindsay C. Gibson</td>\n",
       "      <td>Amazon.com Services LLC</td>\n",
       "      <td>2015-06-01</td>\n",
       "      <td>https://m.media-amazon.com/images/I/713KZTsaYp...</td>\n",
       "      <td>2015</td>\n",
       "      <td>Adult Children of Emotionally Immature Parents...</td>\n",
       "    </tr>\n",
       "    <tr>\n",
       "      <th>1</th>\n",
       "      <td>From Strength to Strength: Finding Success, Ha...</td>\n",
       "      <td>Arthur C. Brooks</td>\n",
       "      <td>Penguin Group (USA) LLC</td>\n",
       "      <td>2022-02-15</td>\n",
       "      <td>https://m.media-amazon.com/images/I/A1LZcJFs9E...</td>\n",
       "      <td>2022</td>\n",
       "      <td>From Strength to Strength: Finding Success, Ha...</td>\n",
       "    </tr>\n",
       "    <tr>\n",
       "      <th>2</th>\n",
       "      <td>Good Inside: A Guide to Becoming the Parent Yo...</td>\n",
       "      <td>Becky Kennedy</td>\n",
       "      <td>HarperCollins Publishers</td>\n",
       "      <td>2022-09-13</td>\n",
       "      <td>https://m.media-amazon.com/images/I/71RIWM0sv6...</td>\n",
       "      <td>2022</td>\n",
       "      <td>Good Inside: A Guide to Becoming the Parent Yo...</td>\n",
       "    </tr>\n",
       "    <tr>\n",
       "      <th>4</th>\n",
       "      <td>The Seven Principles for Making Marriage Work:...</td>\n",
       "      <td>John Gottman</td>\n",
       "      <td>Random House LLC</td>\n",
       "      <td>2015-05-05</td>\n",
       "      <td>https://m.media-amazon.com/images/I/813o4WOs+w...</td>\n",
       "      <td>2015</td>\n",
       "      <td>The Seven Principles for Making Marriage Work:...</td>\n",
       "    </tr>\n",
       "    <tr>\n",
       "      <th>5</th>\n",
       "      <td>The Glass Castle: A Memoir</td>\n",
       "      <td>Jeannette Walls</td>\n",
       "      <td>Simon and Schuster Digital Sales Inc</td>\n",
       "      <td>2005-03-01</td>\n",
       "      <td>https://m.media-amazon.com/images/I/71td5GDUZM...</td>\n",
       "      <td>2005</td>\n",
       "      <td>The Glass Castle: A MemoirJeannette WallsSimon...</td>\n",
       "    </tr>\n",
       "  </tbody>\n",
       "</table>\n",
       "</div>"
      ],
      "text/plain": [
       "                                               title             author  \\\n",
       "0  Adult Children of Emotionally Immature Parents...  Lindsay C. Gibson   \n",
       "1  From Strength to Strength: Finding Success, Ha...   Arthur C. Brooks   \n",
       "2  Good Inside: A Guide to Becoming the Parent Yo...      Becky Kennedy   \n",
       "4  The Seven Principles for Making Marriage Work:...       John Gottman   \n",
       "5                         The Glass Castle: A Memoir    Jeannette Walls   \n",
       "\n",
       "                                 soldBy publishedDate  \\\n",
       "0               Amazon.com Services LLC    2015-06-01   \n",
       "1               Penguin Group (USA) LLC    2022-02-15   \n",
       "2              HarperCollins Publishers    2022-09-13   \n",
       "4                      Random House LLC    2015-05-05   \n",
       "5  Simon and Schuster Digital Sales Inc    2005-03-01   \n",
       "\n",
       "                                              imgUrl  year  \\\n",
       "0  https://m.media-amazon.com/images/I/713KZTsaYp...  2015   \n",
       "1  https://m.media-amazon.com/images/I/A1LZcJFs9E...  2022   \n",
       "2  https://m.media-amazon.com/images/I/71RIWM0sv6...  2022   \n",
       "4  https://m.media-amazon.com/images/I/813o4WOs+w...  2015   \n",
       "5  https://m.media-amazon.com/images/I/71td5GDUZM...  2005   \n",
       "\n",
       "                                                text  \n",
       "0  Adult Children of Emotionally Immature Parents...  \n",
       "1  From Strength to Strength: Finding Success, Ha...  \n",
       "2  Good Inside: A Guide to Becoming the Parent Yo...  \n",
       "4  The Seven Principles for Making Marriage Work:...  \n",
       "5  The Glass Castle: A MemoirJeannette WallsSimon...  "
      ]
     },
     "execution_count": 87,
     "metadata": {},
     "output_type": "execute_result"
    }
   ],
   "source": [
    "#Reload the Dataset\n",
    "data.head()"
   ]
  },
  {
   "cell_type": "markdown",
   "id": "a8fa8df5-dd1c-4012-8390-719e5f90b393",
   "metadata": {},
   "source": [
    "## Feature Engineering"
   ]
  },
  {
   "cell_type": "code",
   "execution_count": 88,
   "id": "75fc39f9-0f91-4924-acc1-aed3fc945b47",
   "metadata": {},
   "outputs": [],
   "source": [
    "# Create an instance of TfidfVectorizer\n",
    "tfidf = TfidfVectorizer(stop_words='english')\n",
    "tfidf_matrix = tfidf.fit_transform(data['text'])"
   ]
  },
  {
   "cell_type": "code",
   "execution_count": 89,
   "id": "4daa0804-a018-415a-8064-6be8a7b88318",
   "metadata": {},
   "outputs": [
    {
     "name": "stdout",
     "output_type": "stream",
     "text": [
      "<Compressed Sparse Row sparse matrix of dtype 'float64'\n",
      "\twith 326 stored elements and shape (35, 280)>\n",
      "  Coords\tValues\n",
      "  (0, 2)\t0.2726574558657834\n",
      "  (0, 40)\t0.24424035547049835\n",
      "  (0, 77)\t0.2726574558657834\n",
      "  (0, 116)\t0.2726574558657834\n",
      "  (0, 169)\t0.2726574558657834\n",
      "  (0, 109)\t0.2726574558657834\n",
      "  (0, 66)\t0.2726574558657834\n",
      "  (0, 195)\t0.2726574558657834\n",
      "  (0, 215)\t0.24424035547049835\n",
      "  (0, 120)\t0.2726574558657834\n",
      "  (0, 170)\t0.2726574558657834\n",
      "  (0, 93)\t0.2726574558657834\n",
      "  (0, 42)\t0.24424035547049835\n",
      "  (0, 216)\t0.20843904299068355\n",
      "  (0, 136)\t0.18485732131578073\n",
      "  (1, 136)\t0.17617116950038733\n",
      "  (1, 231)\t0.5196914304608042\n",
      "  (1, 85)\t0.2598457152304021\n",
      "  (1, 233)\t0.2598457152304021\n",
      "  (1, 106)\t0.2598457152304021\n",
      "  (1, 58)\t0.2598457152304021\n",
      "  (1, 190)\t0.2598457152304021\n",
      "  (1, 213)\t0.21354902789532434\n",
      "  (1, 104)\t0.2598457152304021\n",
      "  (1, 131)\t0.2598457152304021\n",
      "  :\t:\n",
      "  (32, 28)\t0.408248290463863\n",
      "  (32, 69)\t0.408248290463863\n",
      "  (32, 201)\t0.408248290463863\n",
      "  (32, 88)\t0.408248290463863\n",
      "  (33, 39)\t0.21452948772397204\n",
      "  (33, 108)\t0.26103873534358435\n",
      "  (33, 177)\t0.5220774706871687\n",
      "  (33, 55)\t0.26103873534358435\n",
      "  (33, 122)\t0.26103873534358435\n",
      "  (33, 208)\t0.26103873534358435\n",
      "  (33, 21)\t0.26103873534358435\n",
      "  (33, 273)\t0.26103873534358435\n",
      "  (33, 228)\t0.26103873534358435\n",
      "  (33, 183)\t0.26103873534358435\n",
      "  (33, 239)\t0.26103873534358435\n",
      "  (33, 184)\t0.26103873534358435\n",
      "  (34, 148)\t0.33333333333333337\n",
      "  (34, 160)\t0.33333333333333337\n",
      "  (34, 203)\t0.33333333333333337\n",
      "  (34, 176)\t0.33333333333333337\n",
      "  (34, 91)\t0.33333333333333337\n",
      "  (34, 50)\t0.33333333333333337\n",
      "  (34, 204)\t0.33333333333333337\n",
      "  (34, 86)\t0.33333333333333337\n",
      "  (34, 78)\t0.33333333333333337\n"
     ]
    }
   ],
   "source": [
    "#Load the instance of TfidfVectorizer data\n",
    "print(tfidf_matrix)"
   ]
  },
  {
   "cell_type": "code",
   "execution_count": 90,
   "id": "399314ed-30b7-4633-99e9-5b434cbb7c0f",
   "metadata": {},
   "outputs": [
    {
     "name": "stdout",
     "output_type": "stream",
     "text": [
      "0.0\n"
     ]
    }
   ],
   "source": [
    "#Load the instance of TfidfVectorizer data data range\n",
    "print(tfidf_matrix.min())"
   ]
  },
  {
   "cell_type": "code",
   "execution_count": 91,
   "id": "f89e84fc-ac59-4e09-af0c-d0a2d731d47a",
   "metadata": {},
   "outputs": [
    {
     "name": "stdout",
     "output_type": "stream",
     "text": [
      "0.5408289140152339\n"
     ]
    }
   ],
   "source": [
    "#Load the instance of TfidfVectorizer data data range\n",
    "print(tfidf_matrix.max())"
   ]
  },
  {
   "cell_type": "code",
   "execution_count": 92,
   "id": "00eb388d-9c64-4874-8aca-8e10c1deb5d5",
   "metadata": {},
   "outputs": [],
   "source": [
    "# Create an instance of StandardScaler\n",
    "scaler = StandardScaler()\n",
    "\n",
    "# Apply the scaler to the 'year' column in the DataFrame 'data'\n",
    "# This will standardize the values by removing the mean and scaling to unit variance\n",
    "year_scaled = scaler.fit_transform(data[['year']])"
   ]
  },
  {
   "cell_type": "code",
   "execution_count": 102,
   "id": "630e1812-0a7c-4386-82b3-3c99cbf9b939",
   "metadata": {},
   "outputs": [
    {
     "data": {
      "image/png": "[encoded data removed]",
      "text/plain": [
       "<Figure size 1200x500 with 1 Axes>"
      ]
     },
     "metadata": {},
     "output_type": "display_data"
    },
    {
     "data": {
      "text/plain": [
       "Text(0, 0.5, 'Frequency')"
      ]
     },
     "execution_count": 102,
     "metadata": {},
     "output_type": "execute_result"
    },
    {
     "data": {
      "image/png": "[encoded data removed]",
      "text/plain": [
       "<Figure size 640x480 with 1 Axes>"
      ]
     },
     "metadata": {},
     "output_type": "display_data"
    }
   ],
   "source": [
    "# Import the plotting libraries\n",
    "import matplotlib.pyplot as plt\n",
    "import seaborn as sns\n",
    "\n",
    "# Create a new figure with a size of 12x6 inches\n",
    "plt.figure(figsize=(12, 5))\n",
    "\n",
    "# Plot a histogram of the original 'year' data with a KDE (kernel density estimate)\n",
    "# 'bins=10' sets the number of bins, 'color' sets the histogram color\n",
    "sns.histplot(data['year'], kde=True, bins=10, color='blue')\n",
    "\n",
    "# Add a title and axis labels for the original year plot\n",
    "plt.title('Year of Publication')\n",
    "plt.xlabel('Year')\n",
    "plt.ylabel('Frequency')\n",
    "\n",
    "# Show the plot\n",
    "plt.show()\n",
    "\n",
    "# Create a subplot (1 row, 2 columns, 2nd plot) for the scaled data histogram\n",
    "plt.subplot(1, 2, 2)\n",
    "\n",
    "# Plot a histogram of the scaled 'year' data (flattened from 2D to 1D array)\n",
    "sns.histplot(year_scaled.flatten(), kde=True, bins=10, color='green')\n",
    "\n",
    "# Add a title and axis labels for the scaled year plot\n",
    "plt.title('Scaled Year of Publication')\n",
    "plt.xlabel('Scaled Value')\n",
    "plt.ylabel('Frequency')\n"
   ]
  },
  {
   "cell_type": "code",
   "execution_count": 99,
   "id": "4e113a61-dc96-4496-bf74-dd291bb245db",
   "metadata": {},
   "outputs": [
    {
     "data": {
      "text/plain": [
       "array([[-0.94008818],\n",
       "       [ 0.68189494],\n",
       "       [ 0.68189494],\n",
       "       [-0.94008818],\n",
       "       [-3.25720692],\n",
       "       [ 0.45018307],\n",
       "       [ 0.91360682],\n",
       "       [ 0.68189494],\n",
       "       [ 0.45018307],\n",
       "       [ 0.91360682],\n",
       "       [-0.47666443],\n",
       "       [ 0.91360682],\n",
       "       [-0.01324068],\n",
       "       [ 0.68189494],\n",
       "       [ 0.2184712 ],\n",
       "       [ 0.2184712 ],\n",
       "       [ 0.45018307],\n",
       "       [ 0.91360682],\n",
       "       [-0.94008818],\n",
       "       [ 0.2184712 ],\n",
       "       [ 0.91360682],\n",
       "       [-2.5620713 ],\n",
       "       [-0.47666443],\n",
       "       [ 0.68189494],\n",
       "       [ 0.91360682],\n",
       "       [-0.47666443],\n",
       "       [-1.40351192],\n",
       "       [-0.01324068],\n",
       "       [-0.94008818],\n",
       "       [ 0.2184712 ],\n",
       "       [ 0.91360682],\n",
       "       [-1.17180005],\n",
       "       [ 0.68189494],\n",
       "       [-0.01324068],\n",
       "       [ 0.91360682]])"
      ]
     },
     "execution_count": 99,
     "metadata": {},
     "output_type": "execute_result"
    }
   ],
   "source": [
    "#scaled year values:\n",
    "year_scaled"
   ]
  },
  {
   "cell_type": "code",
   "execution_count": 105,
   "id": "4e8c574f-dc29-49b6-9895-a48790359878",
   "metadata": {},
   "outputs": [
    {
     "data": {
      "text/plain": [
       "<Compressed Sparse Row sparse matrix of dtype 'float64'\n",
       "\twith 326 stored elements and shape (35, 280)>"
      ]
     },
     "execution_count": 105,
     "metadata": {},
     "output_type": "execute_result"
    }
   ],
   "source": [
    "#tfidf_matrix Status\n",
    "(tfidf_matrix)"
   ]
  },
  {
   "cell_type": "code",
   "execution_count": 107,
   "id": "331d5106-e214-48c4-a2d1-319ad1a35197",
   "metadata": {},
   "outputs": [],
   "source": [
    "# Convert the dense NumPy array 'year_scaled' into a sparse matrix format\n",
    "# CSR (Compressed Sparse Row) format is efficient for storing and processing matrices\n",
    "# that contain a lot of zeros. It saves memory by only storing non-zero values.\n",
    "year_sparse =  csr_matrix(year_scaled)"
   ]
  },
  {
   "cell_type": "code",
   "execution_count": null,
   "id": "ab4adaad-324f-401f-a23a-3671e66b3812",
   "metadata": {},
   "outputs": [],
   "source": []
  }
 ],
 "metadata": {
  "kernelspec": {
   "display_name": "Python 3 (ipykernel)",
   "language": "python",
   "name": "python3"
  },
  "language_info": {
   "codemirror_mode": {
    "name": "ipython",
    "version": 3
   },
   "file_extension": ".py",
   "mimetype": "text/x-python",
   "name": "python",
   "nbconvert_exporter": "python",
   "pygments_lexer": "ipython3",
   "version": "3.11.13"
  }
 },
 "nbformat": 4,
 "nbformat_minor": 5
}
