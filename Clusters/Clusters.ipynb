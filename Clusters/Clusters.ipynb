{
 "cells": [
  {
   "cell_type": "code",
   "execution_count": 54,
   "id": "9f3bcae5-ce61-4e97-bcd3-d73ba8662d70",
   "metadata": {},
   "outputs": [],
   "source": [
    "#Import libraries\n",
    "import numpy as np\n",
    "import pandas as pd\n",
    "import matplotlib.pyplot as plt\n",
    "from sklearn.cluster import KMeans"
   ]
  },
  {
   "cell_type": "code",
   "execution_count": 55,
   "id": "cdec8835-fb36-4fdf-8678-d35dae738bc2",
   "metadata": {},
   "outputs": [],
   "source": [
    "#Load the Dataset\n",
    "data = pd.read_csv(\"gaming_dataset.csv\")"
   ]
  },
  {
   "cell_type": "code",
   "execution_count": 56,
   "id": "e1fe227d-de76-4646-8533-832830ca5197",
   "metadata": {},
   "outputs": [
    {
     "name": "stdout",
     "output_type": "stream",
     "text": [
      "<class 'pandas.core.frame.DataFrame'>\n",
      "RangeIndex: 15 entries, 0 to 14\n",
      "Data columns (total 75 columns):\n",
      " #   Column           Non-Null Count  Dtype  \n",
      "---  ------           --------------  -----  \n",
      " 0   PlayerID         15 non-null     int64  \n",
      " 1   GamerGender      15 non-null     object \n",
      " 2   GamerAge         15 non-null     int64  \n",
      " 3   AnnualGameSpend  15 non-null     int64  \n",
      " 4   Playtime         15 non-null     int64  \n",
      " 5   EngagementScore  15 non-null     int64  \n",
      " 6   Feature_1        15 non-null     float64\n",
      " 7   Feature_2        15 non-null     float64\n",
      " 8   Feature_3        15 non-null     float64\n",
      " 9   Feature_4        15 non-null     float64\n",
      " 10  Feature_5        15 non-null     float64\n",
      " 11  Feature_6        15 non-null     float64\n",
      " 12  Feature_7        15 non-null     float64\n",
      " 13  Feature_8        15 non-null     float64\n",
      " 14  Feature_9        15 non-null     float64\n",
      " 15  Feature_10       15 non-null     float64\n",
      " 16  Feature_11       15 non-null     float64\n",
      " 17  Feature_12       15 non-null     float64\n",
      " 18  Feature_13       15 non-null     float64\n",
      " 19  Feature_14       15 non-null     float64\n",
      " 20  Feature_15       15 non-null     float64\n",
      " 21  Feature_16       15 non-null     float64\n",
      " 22  Feature_17       15 non-null     float64\n",
      " 23  Feature_18       15 non-null     float64\n",
      " 24  Feature_19       15 non-null     float64\n",
      " 25  Feature_20       15 non-null     float64\n",
      " 26  Feature_21       15 non-null     float64\n",
      " 27  Feature_22       15 non-null     float64\n",
      " 28  Feature_23       15 non-null     float64\n",
      " 29  Feature_24       15 non-null     float64\n",
      " 30  Feature_25       15 non-null     float64\n",
      " 31  Feature_26       15 non-null     float64\n",
      " 32  Feature_27       15 non-null     float64\n",
      " 33  Feature_28       15 non-null     float64\n",
      " 34  Feature_29       15 non-null     float64\n",
      " 35  Feature_30       15 non-null     float64\n",
      " 36  Feature_31       15 non-null     float64\n",
      " 37  Feature_32       15 non-null     float64\n",
      " 38  Feature_33       15 non-null     float64\n",
      " 39  Feature_34       15 non-null     float64\n",
      " 40  Feature_35       15 non-null     float64\n",
      " 41  Feature_36       15 non-null     float64\n",
      " 42  Feature_37       15 non-null     float64\n",
      " 43  Feature_38       15 non-null     float64\n",
      " 44  Feature_39       15 non-null     float64\n",
      " 45  Feature_40       15 non-null     float64\n",
      " 46  Feature_41       15 non-null     float64\n",
      " 47  Feature_42       15 non-null     float64\n",
      " 48  Feature_43       15 non-null     float64\n",
      " 49  Feature_44       15 non-null     float64\n",
      " 50  Feature_45       15 non-null     float64\n",
      " 51  Feature_46       15 non-null     float64\n",
      " 52  Feature_47       15 non-null     float64\n",
      " 53  Feature_48       15 non-null     float64\n",
      " 54  Feature_49       15 non-null     float64\n",
      " 55  Feature_50       15 non-null     float64\n",
      " 56  Feature_51       15 non-null     float64\n",
      " 57  Feature_52       15 non-null     float64\n",
      " 58  Feature_53       15 non-null     float64\n",
      " 59  Feature_54       15 non-null     int64  \n",
      " 60  Feature_55       15 non-null     float64\n",
      " 61  Feature_56       15 non-null     float64\n",
      " 62  Feature_57       15 non-null     float64\n",
      " 63  Feature_58       15 non-null     float64\n",
      " 64  Feature_59       15 non-null     float64\n",
      " 65  Feature_60       15 non-null     float64\n",
      " 66  Feature_61       15 non-null     float64\n",
      " 67  Feature_62       15 non-null     float64\n",
      " 68  Feature_63       15 non-null     float64\n",
      " 69  Feature_64       15 non-null     float64\n",
      " 70  Feature_65       15 non-null     float64\n",
      " 71  Feature_66       15 non-null     float64\n",
      " 72  Feature_67       15 non-null     float64\n",
      " 73  Feature_68       15 non-null     float64\n",
      " 74  Feature_69       15 non-null     float64\n",
      "dtypes: float64(68), int64(6), object(1)\n",
      "memory usage: 8.9+ KB\n"
     ]
    }
   ],
   "source": [
    "#Get dataset Information\n",
    "data.info()"
   ]
  },
  {
   "cell_type": "code",
   "execution_count": 57,
   "id": "27c23dca-d040-4280-b6a2-37587c7bbbdb",
   "metadata": {},
   "outputs": [
    {
     "data": {
      "text/html": [
       "<div>\n",
       "<style scoped>\n",
       "    .dataframe tbody tr th:only-of-type {\n",
       "        vertical-align: middle;\n",
       "    }\n",
       "\n",
       "    .dataframe tbody tr th {\n",
       "        vertical-align: top;\n",
       "    }\n",
       "\n",
       "    .dataframe thead th {\n",
       "        text-align: right;\n",
       "    }\n",
       "</style>\n",
       "<table border=\"1\" class=\"dataframe\">\n",
       "  <thead>\n",
       "    <tr style=\"text-align: right;\">\n",
       "      <th></th>\n",
       "      <th>PlayerID</th>\n",
       "      <th>GamerGender</th>\n",
       "      <th>GamerAge</th>\n",
       "      <th>AnnualGameSpend</th>\n",
       "      <th>Playtime</th>\n",
       "      <th>EngagementScore</th>\n",
       "      <th>Feature_1</th>\n",
       "      <th>Feature_2</th>\n",
       "      <th>Feature_3</th>\n",
       "      <th>Feature_4</th>\n",
       "      <th>...</th>\n",
       "      <th>Feature_60</th>\n",
       "      <th>Feature_61</th>\n",
       "      <th>Feature_62</th>\n",
       "      <th>Feature_63</th>\n",
       "      <th>Feature_64</th>\n",
       "      <th>Feature_65</th>\n",
       "      <th>Feature_66</th>\n",
       "      <th>Feature_67</th>\n",
       "      <th>Feature_68</th>\n",
       "      <th>Feature_69</th>\n",
       "    </tr>\n",
       "  </thead>\n",
       "  <tbody>\n",
       "    <tr>\n",
       "      <th>0</th>\n",
       "      <td>1</td>\n",
       "      <td>Male</td>\n",
       "      <td>19</td>\n",
       "      <td>153</td>\n",
       "      <td>9</td>\n",
       "      <td>2</td>\n",
       "      <td>0.492</td>\n",
       "      <td>250.000</td>\n",
       "      <td>492.000</td>\n",
       "      <td>160.0</td>\n",
       "      <td>...</td>\n",
       "      <td>10.000</td>\n",
       "      <td>419.00</td>\n",
       "      <td>386.000</td>\n",
       "      <td>0.272</td>\n",
       "      <td>339.000</td>\n",
       "      <td>438.0</td>\n",
       "      <td>1.000</td>\n",
       "      <td>9.000</td>\n",
       "      <td>255.000</td>\n",
       "      <td>5.0</td>\n",
       "    </tr>\n",
       "    <tr>\n",
       "      <th>1</th>\n",
       "      <td>2</td>\n",
       "      <td>Male</td>\n",
       "      <td>21</td>\n",
       "      <td>158</td>\n",
       "      <td>1</td>\n",
       "      <td>3</td>\n",
       "      <td>328.000</td>\n",
       "      <td>6.000</td>\n",
       "      <td>0.702</td>\n",
       "      <td>22.0</td>\n",
       "      <td>...</td>\n",
       "      <td>209.000</td>\n",
       "      <td>8.00</td>\n",
       "      <td>257.000</td>\n",
       "      <td>254.000</td>\n",
       "      <td>1.000</td>\n",
       "      <td>9.0</td>\n",
       "      <td>0.799</td>\n",
       "      <td>27.000</td>\n",
       "      <td>0.731</td>\n",
       "      <td>6.0</td>\n",
       "    </tr>\n",
       "    <tr>\n",
       "      <th>2</th>\n",
       "      <td>3</td>\n",
       "      <td>Female</td>\n",
       "      <td>20</td>\n",
       "      <td>166</td>\n",
       "      <td>4</td>\n",
       "      <td>4</td>\n",
       "      <td>9.000</td>\n",
       "      <td>0.758</td>\n",
       "      <td>195.000</td>\n",
       "      <td>2.0</td>\n",
       "      <td>...</td>\n",
       "      <td>264.000</td>\n",
       "      <td>199.00</td>\n",
       "      <td>0.363</td>\n",
       "      <td>22.000</td>\n",
       "      <td>0.810</td>\n",
       "      <td>116.0</td>\n",
       "      <td>433.000</td>\n",
       "      <td>202.000</td>\n",
       "      <td>0.010</td>\n",
       "      <td>3.0</td>\n",
       "    </tr>\n",
       "    <tr>\n",
       "      <th>3</th>\n",
       "      <td>4</td>\n",
       "      <td>Female</td>\n",
       "      <td>23</td>\n",
       "      <td>167</td>\n",
       "      <td>7</td>\n",
       "      <td>5</td>\n",
       "      <td>232.000</td>\n",
       "      <td>432.000</td>\n",
       "      <td>3.000</td>\n",
       "      <td>403.0</td>\n",
       "      <td>...</td>\n",
       "      <td>3.000</td>\n",
       "      <td>57.00</td>\n",
       "      <td>128.000</td>\n",
       "      <td>401.000</td>\n",
       "      <td>0.000</td>\n",
       "      <td>9.0</td>\n",
       "      <td>2.000</td>\n",
       "      <td>0.595</td>\n",
       "      <td>6.000</td>\n",
       "      <td>179.0</td>\n",
       "    </tr>\n",
       "    <tr>\n",
       "      <th>4</th>\n",
       "      <td>5</td>\n",
       "      <td>Female</td>\n",
       "      <td>31</td>\n",
       "      <td>174</td>\n",
       "      <td>0</td>\n",
       "      <td>6</td>\n",
       "      <td>239.000</td>\n",
       "      <td>9.000</td>\n",
       "      <td>45.000</td>\n",
       "      <td>0.0</td>\n",
       "      <td>...</td>\n",
       "      <td>0.035</td>\n",
       "      <td>0.35</td>\n",
       "      <td>398.000</td>\n",
       "      <td>480.000</td>\n",
       "      <td>0.325</td>\n",
       "      <td>4.0</td>\n",
       "      <td>42.000</td>\n",
       "      <td>51.000</td>\n",
       "      <td>0.803</td>\n",
       "      <td>210.0</td>\n",
       "    </tr>\n",
       "  </tbody>\n",
       "</table>\n",
       "<p>5 rows × 75 columns</p>\n",
       "</div>"
      ],
      "text/plain": [
       "   PlayerID GamerGender  GamerAge  AnnualGameSpend  Playtime  EngagementScore  \\\n",
       "0         1        Male        19              153         9                2   \n",
       "1         2        Male        21              158         1                3   \n",
       "2         3      Female        20              166         4                4   \n",
       "3         4      Female        23              167         7                5   \n",
       "4         5      Female        31              174         0                6   \n",
       "\n",
       "   Feature_1  Feature_2  Feature_3  Feature_4  ...  Feature_60  Feature_61  \\\n",
       "0      0.492    250.000    492.000      160.0  ...      10.000      419.00   \n",
       "1    328.000      6.000      0.702       22.0  ...     209.000        8.00   \n",
       "2      9.000      0.758    195.000        2.0  ...     264.000      199.00   \n",
       "3    232.000    432.000      3.000      403.0  ...       3.000       57.00   \n",
       "4    239.000      9.000     45.000        0.0  ...       0.035        0.35   \n",
       "\n",
       "   Feature_62  Feature_63  Feature_64  Feature_65  Feature_66  Feature_67  \\\n",
       "0     386.000       0.272     339.000       438.0       1.000       9.000   \n",
       "1     257.000     254.000       1.000         9.0       0.799      27.000   \n",
       "2       0.363      22.000       0.810       116.0     433.000     202.000   \n",
       "3     128.000     401.000       0.000         9.0       2.000       0.595   \n",
       "4     398.000     480.000       0.325         4.0      42.000      51.000   \n",
       "\n",
       "   Feature_68  Feature_69  \n",
       "0     255.000         5.0  \n",
       "1       0.731         6.0  \n",
       "2       0.010         3.0  \n",
       "3       6.000       179.0  \n",
       "4       0.803       210.0  \n",
       "\n",
       "[5 rows x 75 columns]"
      ]
     },
     "execution_count": 57,
     "metadata": {},
     "output_type": "execute_result"
    }
   ],
   "source": [
    "#load the Dataset Rows\n",
    "data.head()"
   ]
  },
  {
   "cell_type": "code",
   "execution_count": 58,
   "id": "4311eaa3-27ea-4795-a095-6075254eb57d",
   "metadata": {},
   "outputs": [],
   "source": [
    "#Select Relevant Columns\n",
    "data = data[['AnnualGameSpend','EngagementScore']]"
   ]
  },
  {
   "cell_type": "code",
   "execution_count": 59,
   "id": "27d2169f-fe02-4c6a-b2bc-320cc8180c52",
   "metadata": {},
   "outputs": [
    {
     "data": {
      "text/plain": [
       "(15, 2)"
      ]
     },
     "execution_count": 59,
     "metadata": {},
     "output_type": "execute_result"
    }
   ],
   "source": [
    "#Check the Re-Adjust Dataset Shape\n",
    "data.shape"
   ]
  },
  {
   "cell_type": "code",
   "execution_count": 60,
   "id": "e9fd8f4c-15dd-44c0-b98b-b68fc352b91f",
   "metadata": {},
   "outputs": [],
   "source": [
    "#Rename Columns\n",
    "data = data.rename(columns={'AnnualGameSpend':'Spend',\n",
    "                    'EngagementScore':'Score'})"
   ]
  },
  {
   "cell_type": "code",
   "execution_count": 61,
   "id": "58dedcf9-0c96-4d6b-9597-4518193d3c30",
   "metadata": {},
   "outputs": [
    {
     "data": {
      "text/html": [
       "<div>\n",
       "<style scoped>\n",
       "    .dataframe tbody tr th:only-of-type {\n",
       "        vertical-align: middle;\n",
       "    }\n",
       "\n",
       "    .dataframe tbody tr th {\n",
       "        vertical-align: top;\n",
       "    }\n",
       "\n",
       "    .dataframe thead th {\n",
       "        text-align: right;\n",
       "    }\n",
       "</style>\n",
       "<table border=\"1\" class=\"dataframe\">\n",
       "  <thead>\n",
       "    <tr style=\"text-align: right;\">\n",
       "      <th></th>\n",
       "      <th>Spend</th>\n",
       "      <th>Score</th>\n",
       "    </tr>\n",
       "  </thead>\n",
       "  <tbody>\n",
       "    <tr>\n",
       "      <th>0</th>\n",
       "      <td>153</td>\n",
       "      <td>2</td>\n",
       "    </tr>\n",
       "    <tr>\n",
       "      <th>1</th>\n",
       "      <td>158</td>\n",
       "      <td>3</td>\n",
       "    </tr>\n",
       "    <tr>\n",
       "      <th>2</th>\n",
       "      <td>166</td>\n",
       "      <td>4</td>\n",
       "    </tr>\n",
       "    <tr>\n",
       "      <th>3</th>\n",
       "      <td>167</td>\n",
       "      <td>5</td>\n",
       "    </tr>\n",
       "    <tr>\n",
       "      <th>4</th>\n",
       "      <td>174</td>\n",
       "      <td>6</td>\n",
       "    </tr>\n",
       "  </tbody>\n",
       "</table>\n",
       "</div>"
      ],
      "text/plain": [
       "   Spend  Score\n",
       "0    153      2\n",
       "1    158      3\n",
       "2    166      4\n",
       "3    167      5\n",
       "4    174      6"
      ]
     },
     "execution_count": 61,
     "metadata": {},
     "output_type": "execute_result"
    }
   ],
   "source": [
    "#Reload the dataset\n",
    "data.head()"
   ]
  },
  {
   "cell_type": "code",
   "execution_count": 62,
   "id": "9c34cba2-897d-4a87-8272-68ffd3612293",
   "metadata": {},
   "outputs": [
    {
     "data": {
      "text/plain": [
       "<matplotlib.collections.PathCollection at 0x200721df710>"
      ]
     },
     "execution_count": 62,
     "metadata": {},
     "output_type": "execute_result"
    },
    {
     "data": {
      "image/png": "[encoded data removed]",
      "text/plain": [
       "<Figure size 640x480 with 1 Axes>"
      ]
     },
     "metadata": {},
     "output_type": "display_data"
    }
   ],
   "source": [
    "#Load the dataset datapoints\n",
    "plt.scatter(data['Spend'],data['Score'])"
   ]
  },
  {
   "cell_type": "code",
   "execution_count": 74,
   "id": "7023bc2f-9fe6-42ea-8c63-cc4882a3b198",
   "metadata": {},
   "outputs": [
    {
     "name": "stderr",
     "output_type": "stream",
     "text": [
      "C:\\Users\\User\\anaconda3\\envs\\Clusters\\Lib\\site-packages\\sklearn\\cluster\\_kmeans.py:1419: UserWarning: KMeans is known to have a memory leak on Windows with MKL, when there are less chunks than available threads. You can avoid it by setting the environment variable OMP_NUM_THREADS=1.\n",
      "  warnings.warn(\n",
      "C:\\Users\\User\\anaconda3\\envs\\Clusters\\Lib\\site-packages\\sklearn\\cluster\\_kmeans.py:1419: UserWarning: KMeans is known to have a memory leak on Windows with MKL, when there are less chunks than available threads. You can avoid it by setting the environment variable OMP_NUM_THREADS=1.\n",
      "  warnings.warn(\n",
      "C:\\Users\\User\\anaconda3\\envs\\Clusters\\Lib\\site-packages\\sklearn\\cluster\\_kmeans.py:1419: UserWarning: KMeans is known to have a memory leak on Windows with MKL, when there are less chunks than available threads. You can avoid it by setting the environment variable OMP_NUM_THREADS=1.\n",
      "  warnings.warn(\n",
      "C:\\Users\\User\\anaconda3\\envs\\Clusters\\Lib\\site-packages\\sklearn\\cluster\\_kmeans.py:1419: UserWarning: KMeans is known to have a memory leak on Windows with MKL, when there are less chunks than available threads. You can avoid it by setting the environment variable OMP_NUM_THREADS=1.\n",
      "  warnings.warn(\n",
      "C:\\Users\\User\\anaconda3\\envs\\Clusters\\Lib\\site-packages\\sklearn\\cluster\\_kmeans.py:1419: UserWarning: KMeans is known to have a memory leak on Windows with MKL, when there are less chunks than available threads. You can avoid it by setting the environment variable OMP_NUM_THREADS=1.\n",
      "  warnings.warn(\n",
      "C:\\Users\\User\\anaconda3\\envs\\Clusters\\Lib\\site-packages\\sklearn\\cluster\\_kmeans.py:1419: UserWarning: KMeans is known to have a memory leak on Windows with MKL, when there are less chunks than available threads. You can avoid it by setting the environment variable OMP_NUM_THREADS=1.\n",
      "  warnings.warn(\n",
      "C:\\Users\\User\\anaconda3\\envs\\Clusters\\Lib\\site-packages\\sklearn\\cluster\\_kmeans.py:1419: UserWarning: KMeans is known to have a memory leak on Windows with MKL, when there are less chunks than available threads. You can avoid it by setting the environment variable OMP_NUM_THREADS=1.\n",
      "  warnings.warn(\n",
      "C:\\Users\\User\\anaconda3\\envs\\Clusters\\Lib\\site-packages\\sklearn\\cluster\\_kmeans.py:1419: UserWarning: KMeans is known to have a memory leak on Windows with MKL, when there are less chunks than available threads. You can avoid it by setting the environment variable OMP_NUM_THREADS=1.\n",
      "  warnings.warn(\n",
      "C:\\Users\\User\\anaconda3\\envs\\Clusters\\Lib\\site-packages\\sklearn\\cluster\\_kmeans.py:1419: UserWarning: KMeans is known to have a memory leak on Windows with MKL, when there are less chunks than available threads. You can avoid it by setting the environment variable OMP_NUM_THREADS=1.\n",
      "  warnings.warn(\n",
      "C:\\Users\\User\\anaconda3\\envs\\Clusters\\Lib\\site-packages\\sklearn\\cluster\\_kmeans.py:1419: UserWarning: KMeans is known to have a memory leak on Windows with MKL, when there are less chunks than available threads. You can avoid it by setting the environment variable OMP_NUM_THREADS=1.\n",
      "  warnings.warn(\n"
     ]
    },
    {
     "data": {
      "image/png": "[encoded data removed]",
      "text/plain": [
       "<Figure size 640x480 with 1 Axes>"
      ]
     },
     "metadata": {},
     "output_type": "display_data"
    }
   ],
   "source": [
    "#Select the best Optimize Cluster value\n",
    "k_values = [1,2,3,4,5,6,7,8,9,10]\n",
    "wcss_error = []\n",
    "for k in k_values :\n",
    "    model = KMeans(n_clusters=k)\n",
    "    model.fit(data[['Spend','Score']])\n",
    "    wcss_error.append(model.inertia_)"
   ]
  },
  {
   "cell_type": "code",
   "execution_count": 64,
   "id": "b8c23e8c-5d22-4fdd-9ee9-2917813a6744",
   "metadata": {},
   "outputs": [
    {
     "data": {
      "text/plain": [
       "[4175.866666666667,\n",
       " 899.2222222222223,\n",
       " 558.5,\n",
       " 325.5,\n",
       " 225.66666666666669,\n",
       " 100.66666666666666,\n",
       " 66.0,\n",
       " 49.333333333333336,\n",
       " 33.666666666666664,\n",
       " 17.0]"
      ]
     },
     "execution_count": 64,
     "metadata": {},
     "output_type": "execute_result"
    }
   ],
   "source": [
    "#Check the WCSS Error\n",
    "wcss_error"
   ]
  },
  {
   "cell_type": "code",
   "execution_count": 65,
   "id": "3045452b-bec3-4449-8ef0-0aee65a9082c",
   "metadata": {},
   "outputs": [
    {
     "data": {
      "text/plain": [
       "Text(0, 0.5, 'WCSS Error')"
      ]
     },
     "execution_count": 65,
     "metadata": {},
     "output_type": "execute_result"
    },
    {
     "data": {
      "image/png": "[encoded data removed]",
      "text/plain": [
       "<Figure size 640x480 with 1 Axes>"
      ]
     },
     "metadata": {},
     "output_type": "display_data"
    }
   ],
   "source": [
    "#Represent new data Clusters\n",
    "plt.plot(k_values,wcss_error)\n",
    "plt.xlabel(\"Number Of Clusters\")\n",
    "plt.ylabel(\"WCSS Error\")"
   ]
  },
  {
   "cell_type": "code",
   "execution_count": 66,
   "id": "5ed795bd-4ef3-48e7-8038-3e133cd83432",
   "metadata": {},
   "outputs": [
    {
     "name": "stderr",
     "output_type": "stream",
     "text": [
      "C:\\Users\\User\\anaconda3\\envs\\Clusters\\Lib\\site-packages\\sklearn\\cluster\\_kmeans.py:1419: UserWarning: KMeans is known to have a memory leak on Windows with MKL, when there are less chunks than available threads. You can avoid it by setting the environment variable OMP_NUM_THREADS=1.\n",
      "  warnings.warn(\n"
     ]
    }
   ],
   "source": [
    "#Create a simple cluster model\n",
    "model = KMeans(n_clusters=4)\n",
    "prediction = model.fit_predict(data[['Spend','Score']])"
   ]
  },
  {
   "cell_type": "code",
   "execution_count": 67,
   "id": "1819e59e-4d22-4a3f-b9f3-3ffedbf9da52",
   "metadata": {},
   "outputs": [
    {
     "data": {
      "text/plain": [
       "array([3, 3, 1, 1, 1, 1, 0, 0, 0, 2, 0, 2, 2, 2, 2], dtype=int32)"
      ]
     },
     "execution_count": 67,
     "metadata": {},
     "output_type": "execute_result"
    }
   ],
   "source": [
    "#Get the prediction \n",
    "prediction"
   ]
  },
  {
   "cell_type": "code",
   "execution_count": 68,
   "id": "cd71bb57-625c-41b6-9053-04ca51bf7f95",
   "metadata": {},
   "outputs": [],
   "source": [
    "#Add the Cluster Column\n",
    "data['cluster'] = prediction"
   ]
  },
  {
   "cell_type": "code",
   "execution_count": 69,
   "id": "9bcfa7e3-733f-4f6b-bec0-c233bbfbc452",
   "metadata": {},
   "outputs": [
    {
     "data": {
      "text/html": [
       "<div>\n",
       "<style scoped>\n",
       "    .dataframe tbody tr th:only-of-type {\n",
       "        vertical-align: middle;\n",
       "    }\n",
       "\n",
       "    .dataframe tbody tr th {\n",
       "        vertical-align: top;\n",
       "    }\n",
       "\n",
       "    .dataframe thead th {\n",
       "        text-align: right;\n",
       "    }\n",
       "</style>\n",
       "<table border=\"1\" class=\"dataframe\">\n",
       "  <thead>\n",
       "    <tr style=\"text-align: right;\">\n",
       "      <th></th>\n",
       "      <th>Spend</th>\n",
       "      <th>Score</th>\n",
       "      <th>cluster</th>\n",
       "    </tr>\n",
       "  </thead>\n",
       "  <tbody>\n",
       "    <tr>\n",
       "      <th>0</th>\n",
       "      <td>153</td>\n",
       "      <td>2</td>\n",
       "      <td>3</td>\n",
       "    </tr>\n",
       "    <tr>\n",
       "      <th>1</th>\n",
       "      <td>158</td>\n",
       "      <td>3</td>\n",
       "      <td>3</td>\n",
       "    </tr>\n",
       "    <tr>\n",
       "      <th>2</th>\n",
       "      <td>166</td>\n",
       "      <td>4</td>\n",
       "      <td>1</td>\n",
       "    </tr>\n",
       "    <tr>\n",
       "      <th>3</th>\n",
       "      <td>167</td>\n",
       "      <td>5</td>\n",
       "      <td>1</td>\n",
       "    </tr>\n",
       "    <tr>\n",
       "      <th>4</th>\n",
       "      <td>174</td>\n",
       "      <td>6</td>\n",
       "      <td>1</td>\n",
       "    </tr>\n",
       "  </tbody>\n",
       "</table>\n",
       "</div>"
      ],
      "text/plain": [
       "   Spend  Score  cluster\n",
       "0    153      2        3\n",
       "1    158      3        3\n",
       "2    166      4        1\n",
       "3    167      5        1\n",
       "4    174      6        1"
      ]
     },
     "execution_count": 69,
     "metadata": {},
     "output_type": "execute_result"
    }
   ],
   "source": [
    "#Reload the New Dataset\n",
    "data.head()"
   ]
  },
  {
   "cell_type": "code",
   "execution_count": 70,
   "id": "38b3802b-3051-422a-a94a-90c288dd6a92",
   "metadata": {},
   "outputs": [
    {
     "data": {
      "text/plain": [
       "array([[189.75,   4.75],\n",
       "       [171.  ,   5.5 ],\n",
       "       [201.  ,   5.  ],\n",
       "       [155.5 ,   2.5 ]])"
      ]
     },
     "execution_count": 70,
     "metadata": {},
     "output_type": "execute_result"
    }
   ],
   "source": [
    "#Load the clusters\n",
    "model.cluster_centers_"
   ]
  },
  {
   "cell_type": "code",
   "execution_count": 75,
   "id": "7e24b840-ce26-4b6d-b17d-22a83190049f",
   "metadata": {},
   "outputs": [
    {
     "data": {
      "text/plain": [
       "<matplotlib.collections.PathCollection at 0x200734bb490>"
      ]
     },
     "execution_count": 75,
     "metadata": {},
     "output_type": "execute_result"
    },
    {
     "data": {
      "image/png": "[encoded data removed]",
      "text/plain": [
       "<Figure size 640x480 with 1 Axes>"
      ]
     },
     "metadata": {},
     "output_type": "display_data"
    }
   ],
   "source": [
    "#Show clusters graphically\n",
    "c1 = data[data['cluster'] == 0]\n",
    "plt.scatter(c1['Spend'],c1['Score'])\n",
    "c2 = data[data['cluster'] == 1]\n",
    "plt.scatter(c2['Spend'],c2['Score'])\n",
    "c3 = data[data['cluster'] == 2]\n",
    "plt.scatter(c3['Spend'],c3['Score'])\n",
    "c4 = data[data['cluster'] == 3]\n",
    "plt.scatter(c4['Spend'],c4['Score'])"
   ]
  },
  {
   "cell_type": "code",
   "execution_count": null,
   "id": "686fa081-7413-447a-8977-fc3397610f65",
   "metadata": {},
   "outputs": [],
   "source": []
  }
 ],
 "metadata": {
  "kernelspec": {
   "display_name": "Python 3 (ipykernel)",
   "language": "python",
   "name": "python3"
  },
  "language_info": {
   "codemirror_mode": {
    "name": "ipython",
    "version": 3
   },
   "file_extension": ".py",
   "mimetype": "text/x-python",
   "name": "python",
   "nbconvert_exporter": "python",
   "pygments_lexer": "ipython3",
   "version": "3.11.13"
  }
 },
 "nbformat": 4,
 "nbformat_minor": 5
}
