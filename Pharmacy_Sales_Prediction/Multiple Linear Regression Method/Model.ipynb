{
 "cells": [
  {
   "cell_type": "code",
   "execution_count": 7,
   "id": "d771b7a0-8d20-47e1-8053-691cd73ff5ad",
   "metadata": {},
   "outputs": [],
   "source": [
    "#Load the Model\n",
    "import pickle\n",
    "\n",
    "with open(\"model.pickel\",\"rb\") as file:\n",
    "    model = pickle.load(file)"
   ]
  },
  {
   "cell_type": "code",
   "execution_count": 8,
   "id": "50845ebd-c838-4ae5-8670-d1814801cec4",
   "metadata": {},
   "outputs": [
    {
     "data": {
      "text/plain": [
       "np.float64(105370.31290228805)"
      ]
     },
     "execution_count": 8,
     "metadata": {},
     "output_type": "execute_result"
    }
   ],
   "source": [
    "#Create a sample prediction  get method\n",
    "predict = model.predict([[168952,823145,4128452,5]])\n",
    "predict[0]"
   ]
  }
 ],
 "metadata": {
  "kernelspec": {
   "display_name": "Python 3 (ipykernel)",
   "language": "python",
   "name": "python3"
  },
  "language_info": {
   "codemirror_mode": {
    "name": "ipython",
    "version": 3
   },
   "file_extension": ".py",
   "mimetype": "text/x-python",
   "name": "python",
   "nbconvert_exporter": "python",
   "pygments_lexer": "ipython3",
   "version": "3.11.13"
  }
 },
 "nbformat": 4,
 "nbformat_minor": 5
}
